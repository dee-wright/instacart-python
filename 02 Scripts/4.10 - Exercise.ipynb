{
 "cells": [
  {
   "cell_type": "markdown",
   "id": "6f531a7d",
   "metadata": {},
   "source": [
    "## Prep"
   ]
  },
  {
   "cell_type": "code",
   "execution_count": 2,
   "id": "e2da63d0",
   "metadata": {},
   "outputs": [],
   "source": [
    "# Importing libraries\n",
    "import pandas as pd\n",
    "import numpy as np\n",
    "import os\n",
    "import matplotlib.pyplot as plt\n",
    "import seaborn as sns\n",
    "import scipy"
   ]
  },
  {
   "cell_type": "code",
   "execution_count": 3,
   "id": "c3956b1f",
   "metadata": {},
   "outputs": [],
   "source": [
    "# Importing data\n",
    "path = r'C:\\Users\\Ryzen RGB Madness!!!\\Instacart Basket Analysis'"
   ]
  },
  {
   "cell_type": "code",
   "execution_count": 4,
   "id": "26313f5d",
   "metadata": {},
   "outputs": [],
   "source": [
    "insta_complete = pd.read_pickle(os.path.join(path, '02 Data', 'Cleaned', 'instacart_complete.pkl'))"
   ]
  },
  {
   "cell_type": "code",
   "execution_count": 5,
   "id": "8bd18428",
   "metadata": {},
   "outputs": [
    {
     "data": {
      "text/plain": [
       "(32404859, 29)"
      ]
     },
     "execution_count": 5,
     "metadata": {},
     "output_type": "execute_result"
    }
   ],
   "source": [
    "# Verifying import\n",
    "insta_complete.shape"
   ]
  },
  {
   "cell_type": "markdown",
   "id": "a735f3ab",
   "metadata": {},
   "source": [
    "## Exercise"
   ]
  },
  {
   "cell_type": "code",
   "execution_count": 7,
   "id": "f2761569",
   "metadata": {},
   "outputs": [],
   "source": [
    "# Crosstab\n",
    "crosstab = pd.crosstab(insta_complete['days_since_prior_order'], insta_complete['order_number'], dropna=False)"
   ]
  },
  {
   "cell_type": "code",
   "execution_count": 8,
   "id": "5316c4b2",
   "metadata": {},
   "outputs": [],
   "source": [
    "# Copying crosstab to clipboard\n",
    "crosstab.to_clipboard()"
   ]
  },
  {
   "cell_type": "code",
   "execution_count": null,
   "id": "96e0aec9",
   "metadata": {},
   "outputs": [],
   "source": []
  }
 ],
 "metadata": {
  "kernelspec": {
   "display_name": "Python 3 (ipykernel)",
   "language": "python",
   "name": "python3"
  },
  "language_info": {
   "codemirror_mode": {
    "name": "ipython",
    "version": 3
   },
   "file_extension": ".py",
   "mimetype": "text/x-python",
   "name": "python",
   "nbconvert_exporter": "python",
   "pygments_lexer": "ipython3",
   "version": "3.11.4"
  }
 },
 "nbformat": 4,
 "nbformat_minor": 5
}
