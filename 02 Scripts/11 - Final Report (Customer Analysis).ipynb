{
 "cells": [
  {
   "cell_type": "markdown",
   "id": "978ec902",
   "metadata": {},
   "source": [
    "## TOC"
   ]
  },
  {
   "cell_type": "markdown",
   "id": "0e612e17",
   "metadata": {},
   "source": [
    "1. Preparation   \n",
    "2. Security implication considerations   \n",
    "3. Setting regions   \n",
    "4. Excluding low spenders   \n",
    "5. Creating customer profile variables   \n",
    "6. Analyzing customer profiles   \n",
    "7. Aggregating profile data   \n",
    "8. Analyzing profiles across regions & departments   "
   ]
  },
  {
   "cell_type": "markdown",
   "id": "c229dd3b",
   "metadata": {},
   "source": [
    "## Prep"
   ]
  },
  {
   "cell_type": "code",
   "execution_count": 1,
   "id": "8a7eb85e",
   "metadata": {},
   "outputs": [],
   "source": [
    "# Importing libraries\n",
    "import pandas as pd\n",
    "import numpy as np\n",
    "import os\n",
    "import matplotlib.pyplot as plt\n",
    "import seaborn as sns\n",
    "import scipy"
   ]
  },
  {
   "cell_type": "code",
   "execution_count": 2,
   "id": "0f7838ad",
   "metadata": {},
   "outputs": [],
   "source": [
    "# Importing data\n",
    "path = r'C:\\Users\\Ryzen RGB Madness!!!\\Instacart Basket Analysis'"
   ]
  },
  {
   "cell_type": "code",
   "execution_count": 3,
   "id": "0917e1d8",
   "metadata": {},
   "outputs": [],
   "source": [
    "insta_complete = pd.read_pickle(os.path.join(path, '02 Data', 'Cleaned', 'instacart_complete.pkl'))"
   ]
  },
  {
   "cell_type": "code",
   "execution_count": 4,
   "id": "d8803969",
   "metadata": {},
   "outputs": [
    {
     "data": {
      "text/plain": [
       "(32404859, 29)"
      ]
     },
     "execution_count": 4,
     "metadata": {},
     "output_type": "execute_result"
    }
   ],
   "source": [
    "# Verifying import\n",
    "insta_complete.shape"
   ]
  },
  {
   "cell_type": "markdown",
   "id": "f11712ed",
   "metadata": {},
   "source": [
    "## Task Pt 1"
   ]
  },
  {
   "cell_type": "markdown",
   "id": "528dc819",
   "metadata": {},
   "source": [
    "#### 4.10.2 - Security Implications"
   ]
  },
  {
   "cell_type": "code",
   "execution_count": 5,
   "id": "35d4676c",
   "metadata": {},
   "outputs": [
    {
     "data": {
      "text/html": [
       "<div>\n",
       "<style scoped>\n",
       "    .dataframe tbody tr th:only-of-type {\n",
       "        vertical-align: middle;\n",
       "    }\n",
       "\n",
       "    .dataframe tbody tr th {\n",
       "        vertical-align: top;\n",
       "    }\n",
       "\n",
       "    .dataframe thead th {\n",
       "        text-align: right;\n",
       "    }\n",
       "</style>\n",
       "<table border=\"1\" class=\"dataframe\">\n",
       "  <thead>\n",
       "    <tr style=\"text-align: right;\">\n",
       "      <th></th>\n",
       "      <th>order_id</th>\n",
       "      <th>user_id</th>\n",
       "      <th>order_number</th>\n",
       "      <th>order_day_of_week</th>\n",
       "      <th>order_hour_of_day</th>\n",
       "      <th>days_since_prior_order</th>\n",
       "      <th>product_id</th>\n",
       "      <th>add_to_cart_order</th>\n",
       "      <th>reordered</th>\n",
       "      <th>product_name</th>\n",
       "      <th>...</th>\n",
       "      <th>spender_type</th>\n",
       "      <th>frequency</th>\n",
       "      <th>freq_flag</th>\n",
       "      <th>gender</th>\n",
       "      <th>state</th>\n",
       "      <th>age</th>\n",
       "      <th>date_joined</th>\n",
       "      <th>family_members</th>\n",
       "      <th>marital_status</th>\n",
       "      <th>income</th>\n",
       "    </tr>\n",
       "  </thead>\n",
       "  <tbody>\n",
       "    <tr>\n",
       "      <th>0</th>\n",
       "      <td>2539329</td>\n",
       "      <td>1</td>\n",
       "      <td>1</td>\n",
       "      <td>2</td>\n",
       "      <td>8</td>\n",
       "      <td>NaN</td>\n",
       "      <td>196</td>\n",
       "      <td>1</td>\n",
       "      <td>0</td>\n",
       "      <td>Soda</td>\n",
       "      <td>...</td>\n",
       "      <td>Low spender</td>\n",
       "      <td>20.5</td>\n",
       "      <td>Frequent customer</td>\n",
       "      <td>Female</td>\n",
       "      <td>Alabama</td>\n",
       "      <td>31</td>\n",
       "      <td>2/17/2019</td>\n",
       "      <td>3</td>\n",
       "      <td>married</td>\n",
       "      <td>40423</td>\n",
       "    </tr>\n",
       "    <tr>\n",
       "      <th>1</th>\n",
       "      <td>2398795</td>\n",
       "      <td>1</td>\n",
       "      <td>2</td>\n",
       "      <td>3</td>\n",
       "      <td>7</td>\n",
       "      <td>15.0</td>\n",
       "      <td>196</td>\n",
       "      <td>1</td>\n",
       "      <td>1</td>\n",
       "      <td>Soda</td>\n",
       "      <td>...</td>\n",
       "      <td>Low spender</td>\n",
       "      <td>20.5</td>\n",
       "      <td>Frequent customer</td>\n",
       "      <td>Female</td>\n",
       "      <td>Alabama</td>\n",
       "      <td>31</td>\n",
       "      <td>2/17/2019</td>\n",
       "      <td>3</td>\n",
       "      <td>married</td>\n",
       "      <td>40423</td>\n",
       "    </tr>\n",
       "    <tr>\n",
       "      <th>2</th>\n",
       "      <td>473747</td>\n",
       "      <td>1</td>\n",
       "      <td>3</td>\n",
       "      <td>3</td>\n",
       "      <td>12</td>\n",
       "      <td>21.0</td>\n",
       "      <td>196</td>\n",
       "      <td>1</td>\n",
       "      <td>1</td>\n",
       "      <td>Soda</td>\n",
       "      <td>...</td>\n",
       "      <td>Low spender</td>\n",
       "      <td>20.5</td>\n",
       "      <td>Frequent customer</td>\n",
       "      <td>Female</td>\n",
       "      <td>Alabama</td>\n",
       "      <td>31</td>\n",
       "      <td>2/17/2019</td>\n",
       "      <td>3</td>\n",
       "      <td>married</td>\n",
       "      <td>40423</td>\n",
       "    </tr>\n",
       "    <tr>\n",
       "      <th>3</th>\n",
       "      <td>2254736</td>\n",
       "      <td>1</td>\n",
       "      <td>4</td>\n",
       "      <td>4</td>\n",
       "      <td>7</td>\n",
       "      <td>29.0</td>\n",
       "      <td>196</td>\n",
       "      <td>1</td>\n",
       "      <td>1</td>\n",
       "      <td>Soda</td>\n",
       "      <td>...</td>\n",
       "      <td>Low spender</td>\n",
       "      <td>20.5</td>\n",
       "      <td>Frequent customer</td>\n",
       "      <td>Female</td>\n",
       "      <td>Alabama</td>\n",
       "      <td>31</td>\n",
       "      <td>2/17/2019</td>\n",
       "      <td>3</td>\n",
       "      <td>married</td>\n",
       "      <td>40423</td>\n",
       "    </tr>\n",
       "    <tr>\n",
       "      <th>4</th>\n",
       "      <td>431534</td>\n",
       "      <td>1</td>\n",
       "      <td>5</td>\n",
       "      <td>4</td>\n",
       "      <td>15</td>\n",
       "      <td>28.0</td>\n",
       "      <td>196</td>\n",
       "      <td>1</td>\n",
       "      <td>1</td>\n",
       "      <td>Soda</td>\n",
       "      <td>...</td>\n",
       "      <td>Low spender</td>\n",
       "      <td>20.5</td>\n",
       "      <td>Frequent customer</td>\n",
       "      <td>Female</td>\n",
       "      <td>Alabama</td>\n",
       "      <td>31</td>\n",
       "      <td>2/17/2019</td>\n",
       "      <td>3</td>\n",
       "      <td>married</td>\n",
       "      <td>40423</td>\n",
       "    </tr>\n",
       "  </tbody>\n",
       "</table>\n",
       "<p>5 rows × 29 columns</p>\n",
       "</div>"
      ],
      "text/plain": [
       "   order_id  user_id  order_number  order_day_of_week  order_hour_of_day  \\\n",
       "0   2539329        1             1                  2                  8   \n",
       "1   2398795        1             2                  3                  7   \n",
       "2    473747        1             3                  3                 12   \n",
       "3   2254736        1             4                  4                  7   \n",
       "4    431534        1             5                  4                 15   \n",
       "\n",
       "   days_since_prior_order  product_id  add_to_cart_order  reordered  \\\n",
       "0                     NaN         196                  1          0   \n",
       "1                    15.0         196                  1          1   \n",
       "2                    21.0         196                  1          1   \n",
       "3                    29.0         196                  1          1   \n",
       "4                    28.0         196                  1          1   \n",
       "\n",
       "  product_name  ...  spender_type  frequency          freq_flag  gender  \\\n",
       "0         Soda  ...   Low spender       20.5  Frequent customer  Female   \n",
       "1         Soda  ...   Low spender       20.5  Frequent customer  Female   \n",
       "2         Soda  ...   Low spender       20.5  Frequent customer  Female   \n",
       "3         Soda  ...   Low spender       20.5  Frequent customer  Female   \n",
       "4         Soda  ...   Low spender       20.5  Frequent customer  Female   \n",
       "\n",
       "     state age  date_joined family_members  marital_status income  \n",
       "0  Alabama  31    2/17/2019              3         married  40423  \n",
       "1  Alabama  31    2/17/2019              3         married  40423  \n",
       "2  Alabama  31    2/17/2019              3         married  40423  \n",
       "3  Alabama  31    2/17/2019              3         married  40423  \n",
       "4  Alabama  31    2/17/2019              3         married  40423  \n",
       "\n",
       "[5 rows x 29 columns]"
      ]
     },
     "execution_count": 5,
     "metadata": {},
     "output_type": "execute_result"
    }
   ],
   "source": [
    "insta_complete.head()"
   ]
  },
  {
   "cell_type": "markdown",
   "id": "476b7022",
   "metadata": {},
   "source": [
    "I removed the name column when we merged the customer data, as a number of the name fields were blank. A name field isn't necessary in analysis data when you have the user ID - for example, if you need a list of the top 10 customers, you can pull those user IDs and then look up that information to contact the customers for whatever you're sending them for being in the top 10. \n",
    "\n",
    "As that was the main PII information in the customer information database, there is nothing else to scrub. Everything else that's left is generic (for example, user ID 1 is a female that lives in Alabama and is married with one child, with an income of 40k. While that pulls out a specific demographic, it is NOT enough to narrow it down to identify who user ID one is, not without a name or email address or home address). "
   ]
  },
  {
   "cell_type": "markdown",
   "id": "dbf719d9",
   "metadata": {},
   "source": [
    "#### 4.10.3 - Regions of the US"
   ]
  },
  {
   "cell_type": "code",
   "execution_count": 6,
   "id": "5cd26647",
   "metadata": {},
   "outputs": [],
   "source": [
    "# Creating regions\n",
    "result = []\n",
    "\n",
    "for value in insta_complete['state']:\n",
    "    if value in [\"Maine\",\"New Hampshire\",\"Vermont\",\"Massachusetts\",\"Rhode Island\",\"Connecticut\",\"New York\",\"Pennsylvania\",\"New Jersey\"]:\n",
    "            result.append(\"Northeast\")\n",
    "    elif value in [\"Wisconsin\",\"Michigan\",\"Illinois\",\"Indiana\",\"Ohio\", \"North Dakota\",\"South Dakota\",\"Nebraska\",\"Kansas\",\"Minnesota\",\"Iowa\",\"Missouri\"]:\n",
    "            result.append(\"Midwest\")\n",
    "    elif value in [\"Delaware\",\"Maryland\",\"District of Columbia\",\"Virginia\",\"West Virginia\",\"North Carolina\",\"South Carolina\",\"Georgia\",\"Florida\",\"Kentucky\",\"Tennessee\",\"Mississippi\",\"Alabama\",\"Oklahoma\",\"Texas\",\"Arkansas\",\"Louisiana\"]:\n",
    "            result.append(\"South\")\n",
    "    else:\n",
    "            result.append(\"West\")"
   ]
  },
  {
   "cell_type": "code",
   "execution_count": 7,
   "id": "0a4ae463",
   "metadata": {},
   "outputs": [],
   "source": [
    "# Adding regions to data\n",
    "insta_complete['region'] = result"
   ]
  },
  {
   "cell_type": "code",
   "execution_count": 8,
   "id": "2d0b7f9d",
   "metadata": {},
   "outputs": [
    {
     "data": {
      "text/html": [
       "<div>\n",
       "<style scoped>\n",
       "    .dataframe tbody tr th:only-of-type {\n",
       "        vertical-align: middle;\n",
       "    }\n",
       "\n",
       "    .dataframe tbody tr th {\n",
       "        vertical-align: top;\n",
       "    }\n",
       "\n",
       "    .dataframe thead th {\n",
       "        text-align: right;\n",
       "    }\n",
       "</style>\n",
       "<table border=\"1\" class=\"dataframe\">\n",
       "  <thead>\n",
       "    <tr style=\"text-align: right;\">\n",
       "      <th></th>\n",
       "      <th>order_id</th>\n",
       "      <th>user_id</th>\n",
       "      <th>order_number</th>\n",
       "      <th>order_day_of_week</th>\n",
       "      <th>order_hour_of_day</th>\n",
       "      <th>days_since_prior_order</th>\n",
       "      <th>product_id</th>\n",
       "      <th>add_to_cart_order</th>\n",
       "      <th>reordered</th>\n",
       "      <th>product_name</th>\n",
       "      <th>...</th>\n",
       "      <th>frequency</th>\n",
       "      <th>freq_flag</th>\n",
       "      <th>gender</th>\n",
       "      <th>state</th>\n",
       "      <th>age</th>\n",
       "      <th>date_joined</th>\n",
       "      <th>family_members</th>\n",
       "      <th>marital_status</th>\n",
       "      <th>income</th>\n",
       "      <th>region</th>\n",
       "    </tr>\n",
       "  </thead>\n",
       "  <tbody>\n",
       "    <tr>\n",
       "      <th>0</th>\n",
       "      <td>2539329</td>\n",
       "      <td>1</td>\n",
       "      <td>1</td>\n",
       "      <td>2</td>\n",
       "      <td>8</td>\n",
       "      <td>NaN</td>\n",
       "      <td>196</td>\n",
       "      <td>1</td>\n",
       "      <td>0</td>\n",
       "      <td>Soda</td>\n",
       "      <td>...</td>\n",
       "      <td>20.5</td>\n",
       "      <td>Frequent customer</td>\n",
       "      <td>Female</td>\n",
       "      <td>Alabama</td>\n",
       "      <td>31</td>\n",
       "      <td>2/17/2019</td>\n",
       "      <td>3</td>\n",
       "      <td>married</td>\n",
       "      <td>40423</td>\n",
       "      <td>South</td>\n",
       "    </tr>\n",
       "    <tr>\n",
       "      <th>1</th>\n",
       "      <td>2398795</td>\n",
       "      <td>1</td>\n",
       "      <td>2</td>\n",
       "      <td>3</td>\n",
       "      <td>7</td>\n",
       "      <td>15.0</td>\n",
       "      <td>196</td>\n",
       "      <td>1</td>\n",
       "      <td>1</td>\n",
       "      <td>Soda</td>\n",
       "      <td>...</td>\n",
       "      <td>20.5</td>\n",
       "      <td>Frequent customer</td>\n",
       "      <td>Female</td>\n",
       "      <td>Alabama</td>\n",
       "      <td>31</td>\n",
       "      <td>2/17/2019</td>\n",
       "      <td>3</td>\n",
       "      <td>married</td>\n",
       "      <td>40423</td>\n",
       "      <td>South</td>\n",
       "    </tr>\n",
       "    <tr>\n",
       "      <th>2</th>\n",
       "      <td>473747</td>\n",
       "      <td>1</td>\n",
       "      <td>3</td>\n",
       "      <td>3</td>\n",
       "      <td>12</td>\n",
       "      <td>21.0</td>\n",
       "      <td>196</td>\n",
       "      <td>1</td>\n",
       "      <td>1</td>\n",
       "      <td>Soda</td>\n",
       "      <td>...</td>\n",
       "      <td>20.5</td>\n",
       "      <td>Frequent customer</td>\n",
       "      <td>Female</td>\n",
       "      <td>Alabama</td>\n",
       "      <td>31</td>\n",
       "      <td>2/17/2019</td>\n",
       "      <td>3</td>\n",
       "      <td>married</td>\n",
       "      <td>40423</td>\n",
       "      <td>South</td>\n",
       "    </tr>\n",
       "    <tr>\n",
       "      <th>3</th>\n",
       "      <td>2254736</td>\n",
       "      <td>1</td>\n",
       "      <td>4</td>\n",
       "      <td>4</td>\n",
       "      <td>7</td>\n",
       "      <td>29.0</td>\n",
       "      <td>196</td>\n",
       "      <td>1</td>\n",
       "      <td>1</td>\n",
       "      <td>Soda</td>\n",
       "      <td>...</td>\n",
       "      <td>20.5</td>\n",
       "      <td>Frequent customer</td>\n",
       "      <td>Female</td>\n",
       "      <td>Alabama</td>\n",
       "      <td>31</td>\n",
       "      <td>2/17/2019</td>\n",
       "      <td>3</td>\n",
       "      <td>married</td>\n",
       "      <td>40423</td>\n",
       "      <td>South</td>\n",
       "    </tr>\n",
       "    <tr>\n",
       "      <th>4</th>\n",
       "      <td>431534</td>\n",
       "      <td>1</td>\n",
       "      <td>5</td>\n",
       "      <td>4</td>\n",
       "      <td>15</td>\n",
       "      <td>28.0</td>\n",
       "      <td>196</td>\n",
       "      <td>1</td>\n",
       "      <td>1</td>\n",
       "      <td>Soda</td>\n",
       "      <td>...</td>\n",
       "      <td>20.5</td>\n",
       "      <td>Frequent customer</td>\n",
       "      <td>Female</td>\n",
       "      <td>Alabama</td>\n",
       "      <td>31</td>\n",
       "      <td>2/17/2019</td>\n",
       "      <td>3</td>\n",
       "      <td>married</td>\n",
       "      <td>40423</td>\n",
       "      <td>South</td>\n",
       "    </tr>\n",
       "  </tbody>\n",
       "</table>\n",
       "<p>5 rows × 30 columns</p>\n",
       "</div>"
      ],
      "text/plain": [
       "   order_id  user_id  order_number  order_day_of_week  order_hour_of_day  \\\n",
       "0   2539329        1             1                  2                  8   \n",
       "1   2398795        1             2                  3                  7   \n",
       "2    473747        1             3                  3                 12   \n",
       "3   2254736        1             4                  4                  7   \n",
       "4    431534        1             5                  4                 15   \n",
       "\n",
       "   days_since_prior_order  product_id  add_to_cart_order  reordered  \\\n",
       "0                     NaN         196                  1          0   \n",
       "1                    15.0         196                  1          1   \n",
       "2                    21.0         196                  1          1   \n",
       "3                    29.0         196                  1          1   \n",
       "4                    28.0         196                  1          1   \n",
       "\n",
       "  product_name  ...  frequency          freq_flag  gender    state age  \\\n",
       "0         Soda  ...       20.5  Frequent customer  Female  Alabama  31   \n",
       "1         Soda  ...       20.5  Frequent customer  Female  Alabama  31   \n",
       "2         Soda  ...       20.5  Frequent customer  Female  Alabama  31   \n",
       "3         Soda  ...       20.5  Frequent customer  Female  Alabama  31   \n",
       "4         Soda  ...       20.5  Frequent customer  Female  Alabama  31   \n",
       "\n",
       "  date_joined  family_members marital_status  income region  \n",
       "0   2/17/2019               3        married   40423  South  \n",
       "1   2/17/2019               3        married   40423  South  \n",
       "2   2/17/2019               3        married   40423  South  \n",
       "3   2/17/2019               3        married   40423  South  \n",
       "4   2/17/2019               3        married   40423  South  \n",
       "\n",
       "[5 rows x 30 columns]"
      ]
     },
     "execution_count": 8,
     "metadata": {},
     "output_type": "execute_result"
    }
   ],
   "source": [
    "# Checking region addition\n",
    "insta_complete.head()"
   ]
  },
  {
   "cell_type": "code",
   "execution_count": 9,
   "id": "40127219",
   "metadata": {},
   "outputs": [
    {
     "data": {
      "text/plain": [
       "Index(['order_id', 'user_id', 'order_number', 'order_day_of_week',\n",
       "       'order_hour_of_day', 'days_since_prior_order', 'product_id',\n",
       "       'add_to_cart_order', 'reordered', 'product_name', 'aisle_id',\n",
       "       'department_id', 'prices', 'price_range_loc', 'busiest_days',\n",
       "       'busiest_period_of_day', 'max_order', 'loyalty_flag', 'average_price',\n",
       "       'spender_type', 'frequency', 'freq_flag', 'gender', 'state', 'age',\n",
       "       'date_joined', 'family_members', 'marital_status', 'income', 'region'],\n",
       "      dtype='object')"
      ]
     },
     "execution_count": 9,
     "metadata": {},
     "output_type": "execute_result"
    }
   ],
   "source": [
    "# Verifying column names\n",
    "insta_complete.columns"
   ]
  },
  {
   "cell_type": "code",
   "execution_count": 10,
   "id": "5adf0e79",
   "metadata": {},
   "outputs": [],
   "source": [
    "# Creating crosstab for spending habits across regions\n",
    "crosstab = pd.crosstab(insta_complete['region'], insta_complete['spender_type'], dropna=False)"
   ]
  },
  {
   "cell_type": "code",
   "execution_count": 11,
   "id": "cfe9083c",
   "metadata": {},
   "outputs": [],
   "source": [
    "# Copying crosstab to clipboard\n",
    "crosstab.to_clipboard()"
   ]
  },
  {
   "cell_type": "markdown",
   "id": "90459e78",
   "metadata": {},
   "source": [
    "#### 4.10.4 - Creating Exclusion Flag for Low Spenders"
   ]
  },
  {
   "cell_type": "code",
   "execution_count": 12,
   "id": "ca816285",
   "metadata": {},
   "outputs": [],
   "source": [
    "# Creating exclusion flag\n",
    "insta_complete.loc[insta_complete['max_order'] < 5, 'activity_level'] = 'Low activity'"
   ]
  },
  {
   "cell_type": "code",
   "execution_count": 13,
   "id": "61b97aae",
   "metadata": {},
   "outputs": [
    {
     "data": {
      "text/html": [
       "<div>\n",
       "<style scoped>\n",
       "    .dataframe tbody tr th:only-of-type {\n",
       "        vertical-align: middle;\n",
       "    }\n",
       "\n",
       "    .dataframe tbody tr th {\n",
       "        vertical-align: top;\n",
       "    }\n",
       "\n",
       "    .dataframe thead th {\n",
       "        text-align: right;\n",
       "    }\n",
       "</style>\n",
       "<table border=\"1\" class=\"dataframe\">\n",
       "  <thead>\n",
       "    <tr style=\"text-align: right;\">\n",
       "      <th></th>\n",
       "      <th>order_id</th>\n",
       "      <th>user_id</th>\n",
       "      <th>order_number</th>\n",
       "      <th>order_day_of_week</th>\n",
       "      <th>order_hour_of_day</th>\n",
       "      <th>days_since_prior_order</th>\n",
       "      <th>product_id</th>\n",
       "      <th>add_to_cart_order</th>\n",
       "      <th>reordered</th>\n",
       "      <th>product_name</th>\n",
       "      <th>...</th>\n",
       "      <th>freq_flag</th>\n",
       "      <th>gender</th>\n",
       "      <th>state</th>\n",
       "      <th>age</th>\n",
       "      <th>date_joined</th>\n",
       "      <th>family_members</th>\n",
       "      <th>marital_status</th>\n",
       "      <th>income</th>\n",
       "      <th>region</th>\n",
       "      <th>activity_level</th>\n",
       "    </tr>\n",
       "  </thead>\n",
       "  <tbody>\n",
       "    <tr>\n",
       "      <th>0</th>\n",
       "      <td>2539329</td>\n",
       "      <td>1</td>\n",
       "      <td>1</td>\n",
       "      <td>2</td>\n",
       "      <td>8</td>\n",
       "      <td>NaN</td>\n",
       "      <td>196</td>\n",
       "      <td>1</td>\n",
       "      <td>0</td>\n",
       "      <td>Soda</td>\n",
       "      <td>...</td>\n",
       "      <td>Frequent customer</td>\n",
       "      <td>Female</td>\n",
       "      <td>Alabama</td>\n",
       "      <td>31</td>\n",
       "      <td>2/17/2019</td>\n",
       "      <td>3</td>\n",
       "      <td>married</td>\n",
       "      <td>40423</td>\n",
       "      <td>South</td>\n",
       "      <td>NaN</td>\n",
       "    </tr>\n",
       "    <tr>\n",
       "      <th>1</th>\n",
       "      <td>2398795</td>\n",
       "      <td>1</td>\n",
       "      <td>2</td>\n",
       "      <td>3</td>\n",
       "      <td>7</td>\n",
       "      <td>15.0</td>\n",
       "      <td>196</td>\n",
       "      <td>1</td>\n",
       "      <td>1</td>\n",
       "      <td>Soda</td>\n",
       "      <td>...</td>\n",
       "      <td>Frequent customer</td>\n",
       "      <td>Female</td>\n",
       "      <td>Alabama</td>\n",
       "      <td>31</td>\n",
       "      <td>2/17/2019</td>\n",
       "      <td>3</td>\n",
       "      <td>married</td>\n",
       "      <td>40423</td>\n",
       "      <td>South</td>\n",
       "      <td>NaN</td>\n",
       "    </tr>\n",
       "    <tr>\n",
       "      <th>2</th>\n",
       "      <td>473747</td>\n",
       "      <td>1</td>\n",
       "      <td>3</td>\n",
       "      <td>3</td>\n",
       "      <td>12</td>\n",
       "      <td>21.0</td>\n",
       "      <td>196</td>\n",
       "      <td>1</td>\n",
       "      <td>1</td>\n",
       "      <td>Soda</td>\n",
       "      <td>...</td>\n",
       "      <td>Frequent customer</td>\n",
       "      <td>Female</td>\n",
       "      <td>Alabama</td>\n",
       "      <td>31</td>\n",
       "      <td>2/17/2019</td>\n",
       "      <td>3</td>\n",
       "      <td>married</td>\n",
       "      <td>40423</td>\n",
       "      <td>South</td>\n",
       "      <td>NaN</td>\n",
       "    </tr>\n",
       "    <tr>\n",
       "      <th>3</th>\n",
       "      <td>2254736</td>\n",
       "      <td>1</td>\n",
       "      <td>4</td>\n",
       "      <td>4</td>\n",
       "      <td>7</td>\n",
       "      <td>29.0</td>\n",
       "      <td>196</td>\n",
       "      <td>1</td>\n",
       "      <td>1</td>\n",
       "      <td>Soda</td>\n",
       "      <td>...</td>\n",
       "      <td>Frequent customer</td>\n",
       "      <td>Female</td>\n",
       "      <td>Alabama</td>\n",
       "      <td>31</td>\n",
       "      <td>2/17/2019</td>\n",
       "      <td>3</td>\n",
       "      <td>married</td>\n",
       "      <td>40423</td>\n",
       "      <td>South</td>\n",
       "      <td>NaN</td>\n",
       "    </tr>\n",
       "    <tr>\n",
       "      <th>4</th>\n",
       "      <td>431534</td>\n",
       "      <td>1</td>\n",
       "      <td>5</td>\n",
       "      <td>4</td>\n",
       "      <td>15</td>\n",
       "      <td>28.0</td>\n",
       "      <td>196</td>\n",
       "      <td>1</td>\n",
       "      <td>1</td>\n",
       "      <td>Soda</td>\n",
       "      <td>...</td>\n",
       "      <td>Frequent customer</td>\n",
       "      <td>Female</td>\n",
       "      <td>Alabama</td>\n",
       "      <td>31</td>\n",
       "      <td>2/17/2019</td>\n",
       "      <td>3</td>\n",
       "      <td>married</td>\n",
       "      <td>40423</td>\n",
       "      <td>South</td>\n",
       "      <td>NaN</td>\n",
       "    </tr>\n",
       "  </tbody>\n",
       "</table>\n",
       "<p>5 rows × 31 columns</p>\n",
       "</div>"
      ],
      "text/plain": [
       "   order_id  user_id  order_number  order_day_of_week  order_hour_of_day  \\\n",
       "0   2539329        1             1                  2                  8   \n",
       "1   2398795        1             2                  3                  7   \n",
       "2    473747        1             3                  3                 12   \n",
       "3   2254736        1             4                  4                  7   \n",
       "4    431534        1             5                  4                 15   \n",
       "\n",
       "   days_since_prior_order  product_id  add_to_cart_order  reordered  \\\n",
       "0                     NaN         196                  1          0   \n",
       "1                    15.0         196                  1          1   \n",
       "2                    21.0         196                  1          1   \n",
       "3                    29.0         196                  1          1   \n",
       "4                    28.0         196                  1          1   \n",
       "\n",
       "  product_name  ...          freq_flag  gender    state age date_joined  \\\n",
       "0         Soda  ...  Frequent customer  Female  Alabama  31   2/17/2019   \n",
       "1         Soda  ...  Frequent customer  Female  Alabama  31   2/17/2019   \n",
       "2         Soda  ...  Frequent customer  Female  Alabama  31   2/17/2019   \n",
       "3         Soda  ...  Frequent customer  Female  Alabama  31   2/17/2019   \n",
       "4         Soda  ...  Frequent customer  Female  Alabama  31   2/17/2019   \n",
       "\n",
       "  family_members  marital_status income  region activity_level  \n",
       "0              3         married  40423   South            NaN  \n",
       "1              3         married  40423   South            NaN  \n",
       "2              3         married  40423   South            NaN  \n",
       "3              3         married  40423   South            NaN  \n",
       "4              3         married  40423   South            NaN  \n",
       "\n",
       "[5 rows x 31 columns]"
      ]
     },
     "execution_count": 13,
     "metadata": {},
     "output_type": "execute_result"
    }
   ],
   "source": [
    "# Verifying column\n",
    "insta_complete.head()"
   ]
  },
  {
   "cell_type": "code",
   "execution_count": 14,
   "id": "60f6c320",
   "metadata": {},
   "outputs": [
    {
     "data": {
      "text/plain": [
       "activity_level\n",
       "NaN             30964564\n",
       "Low activity     1440295\n",
       "Name: count, dtype: int64"
      ]
     },
     "execution_count": 14,
     "metadata": {},
     "output_type": "execute_result"
    }
   ],
   "source": [
    "# Verifying low activity flag counts\n",
    "insta_complete['activity_level'].value_counts(dropna=False)"
   ]
  },
  {
   "cell_type": "code",
   "execution_count": 15,
   "id": "053f4804",
   "metadata": {},
   "outputs": [],
   "source": [
    "low_activity = insta_complete[insta_complete['activity_level'] == 'Low activity']"
   ]
  },
  {
   "cell_type": "code",
   "execution_count": 16,
   "id": "190ccae1",
   "metadata": {},
   "outputs": [
    {
     "data": {
      "text/plain": [
       "(1440295, 31)"
      ]
     },
     "execution_count": 16,
     "metadata": {},
     "output_type": "execute_result"
    }
   ],
   "source": [
    "# Verifying low activity numbers\n",
    "low_activity.shape"
   ]
  },
  {
   "cell_type": "code",
   "execution_count": 17,
   "id": "8b5744c0",
   "metadata": {},
   "outputs": [],
   "source": [
    "# Exporting low activity customers\n",
    "low_activity.to_csv(os.path.join(path, '04 Analysis','Reports','low_activity.csv'))"
   ]
  },
  {
   "cell_type": "code",
   "execution_count": 18,
   "id": "831d4f96",
   "metadata": {},
   "outputs": [],
   "source": [
    "# Creating dataframe for non-low-activity customers (final output)\n",
    "insta_final = insta_complete[insta_complete.activity_level != 'Low activity']"
   ]
  },
  {
   "cell_type": "code",
   "execution_count": 19,
   "id": "4283df27",
   "metadata": {},
   "outputs": [
    {
     "data": {
      "text/plain": [
       "(30964564, 31)"
      ]
     },
     "execution_count": 19,
     "metadata": {},
     "output_type": "execute_result"
    }
   ],
   "source": [
    "# Verifying insta_final shape\n",
    "insta_final.shape"
   ]
  },
  {
   "cell_type": "code",
   "execution_count": 20,
   "id": "1ac4634a",
   "metadata": {},
   "outputs": [],
   "source": [
    "# Removing activity_level flag column as it is not necessary for analysis\n",
    "insta_final = insta_final.drop(columns=['activity_level'])"
   ]
  },
  {
   "cell_type": "code",
   "execution_count": 21,
   "id": "ed44120e",
   "metadata": {},
   "outputs": [
    {
     "data": {
      "text/plain": [
       "(30964564, 30)"
      ]
     },
     "execution_count": 21,
     "metadata": {},
     "output_type": "execute_result"
    }
   ],
   "source": [
    "# Verifying drop\n",
    "insta_final.shape"
   ]
  },
  {
   "cell_type": "code",
   "execution_count": 22,
   "id": "2aa21361",
   "metadata": {},
   "outputs": [],
   "source": [
    "# Exporting final dataframe\n",
    "insta_final.to_pickle(os.path.join(path, '02 Data','Cleaned','insta_final.pkl'))"
   ]
  },
  {
   "cell_type": "markdown",
   "id": "318e8b98",
   "metadata": {},
   "source": [
    "#### 4.10.5 - Customer Profiling Variables"
   ]
  },
  {
   "cell_type": "markdown",
   "id": "dcb18a6c",
   "metadata": {},
   "source": [
    "SETUP NOTES FOR FLAGS\n",
    "\n",
    "Demo Label - Age - Income - Dept ID - Dependents\n",
    "\n",
    "College Students (18-25 / < 35000 / 1 / 0) // Pet Owners (18-80 / any / 8 / any) // Parents with Babies (18-50 / any / 18 / 2+)"
   ]
  },
  {
   "cell_type": "code",
   "execution_count": 23,
   "id": "2827a37c",
   "metadata": {},
   "outputs": [
    {
     "data": {
      "text/plain": [
       "Index(['order_id', 'user_id', 'order_number', 'order_day_of_week',\n",
       "       'order_hour_of_day', 'days_since_prior_order', 'product_id',\n",
       "       'add_to_cart_order', 'reordered', 'product_name', 'aisle_id',\n",
       "       'department_id', 'prices', 'price_range_loc', 'busiest_days',\n",
       "       'busiest_period_of_day', 'max_order', 'loyalty_flag', 'average_price',\n",
       "       'spender_type', 'frequency', 'freq_flag', 'gender', 'state', 'age',\n",
       "       'date_joined', 'family_members', 'marital_status', 'income', 'region'],\n",
       "      dtype='object')"
      ]
     },
     "execution_count": 23,
     "metadata": {},
     "output_type": "execute_result"
    }
   ],
   "source": [
    "# Pulling column list for reference\n",
    "insta_final.columns"
   ]
  },
  {
   "cell_type": "code",
   "execution_count": 24,
   "id": "06645465",
   "metadata": {},
   "outputs": [],
   "source": [
    "# Setting College Student profile flag\n",
    "insta_final.loc[(insta_final['department_id']==1) & (insta_final['age']<=24) & (insta_final['income']<=35000), 'cust_profile'] = 'College student'"
   ]
  },
  {
   "cell_type": "code",
   "execution_count": 25,
   "id": "5de2c277",
   "metadata": {},
   "outputs": [],
   "source": [
    "# Setting Pet Owner profile flag\n",
    "insta_final.loc[(insta_final['department_id']==8) & (insta_final['age']<=80), 'cust_profile'] = 'Pet owner'"
   ]
  },
  {
   "cell_type": "code",
   "execution_count": 26,
   "id": "8f9eec0a",
   "metadata": {},
   "outputs": [],
   "source": [
    "# Setting Baby Parent profile flag\n",
    "insta_final.loc[(insta_final['department_id']==18) & (insta_final['age']<=50) & (insta_final['family_members']>=2), 'cust_profile'] = 'Baby parent'"
   ]
  },
  {
   "cell_type": "code",
   "execution_count": 27,
   "id": "e0a6b4c4",
   "metadata": {},
   "outputs": [
    {
     "data": {
      "text/plain": [
       "cust_profile\n",
       "Baby parent         7801\n",
       "College student      810\n",
       "Pet owner          12977\n",
       "Name: user_id, dtype: int64"
      ]
     },
     "execution_count": 27,
     "metadata": {},
     "output_type": "execute_result"
    }
   ],
   "source": [
    "# Checking profile flag counts for usefulness\n",
    "insta_final.groupby('cust_profile')['user_id'].nunique()"
   ]
  },
  {
   "cell_type": "code",
   "execution_count": 28,
   "id": "e66cc40d",
   "metadata": {},
   "outputs": [
    {
     "data": {
      "text/plain": [
       "cust_profile\n",
       "NaN                30754865\n",
       "Baby parent          108278\n",
       "Pet owner             91719\n",
       "College student        9702\n",
       "Name: count, dtype: int64"
      ]
     },
     "execution_count": 28,
     "metadata": {},
     "output_type": "execute_result"
    }
   ],
   "source": [
    "# Looking at straight value counts of customer profile flags\n",
    "insta_final['cust_profile'].value_counts(dropna=False)"
   ]
  },
  {
   "cell_type": "markdown",
   "id": "da5eb558",
   "metadata": {},
   "source": [
    "Possibly, broke college students aren't going to be using Instacart much (it certainly could feel like a luxury to have your groceries delivered and when you're counting pennies you might not spend them on that). \n",
    "\n",
    "With this data, it looks like baby parents are making more repeat orders than pet owners, but when the profiles are segmented out by user ID, there are more pet owner user IDs that meet the criteria.\n",
    "\n",
    "For this portion of the task, though there are fewer baby parent-centric user IDs, I will be using that demographic for my visualizations and aggregate data. "
   ]
  },
  {
   "cell_type": "markdown",
   "id": "87d27977",
   "metadata": {},
   "source": [
    "#### 4.10.6 - Customer Profile Analysis"
   ]
  },
  {
   "cell_type": "code",
   "execution_count": 29,
   "id": "525ef073",
   "metadata": {},
   "outputs": [],
   "source": [
    "# Creating profiles dataframe for visualizations\n",
    "insta_profiles = insta_final[insta_final['cust_profile'].notnull()]"
   ]
  },
  {
   "cell_type": "code",
   "execution_count": 30,
   "id": "fc6ce1c5",
   "metadata": {},
   "outputs": [
    {
     "data": {
      "text/plain": [
       "cust_profile\n",
       "Baby parent        108278\n",
       "Pet owner           91719\n",
       "College student      9702\n",
       "Name: count, dtype: int64"
      ]
     },
     "execution_count": 30,
     "metadata": {},
     "output_type": "execute_result"
    }
   ],
   "source": [
    "# Checking profiles count\n",
    "insta_profiles['cust_profile'].value_counts(dropna=False)"
   ]
  },
  {
   "cell_type": "code",
   "execution_count": 61,
   "id": "03244952",
   "metadata": {},
   "outputs": [
    {
     "data": {
      "image/png": "[encoded data removed]",
      "text/plain": [
       "<Figure size 640x480 with 1 Axes>"
      ]
     },
     "metadata": {},
     "output_type": "display_data"
    }
   ],
   "source": [
    "# Bar chart for frequency of each profile\n",
    "sns.set_palette('rocket')\n",
    "bar = sns.barplot(insta_profiles, x='cust_profile', y='frequency', hue='cust_profile')"
   ]
  },
  {
   "cell_type": "code",
   "execution_count": 62,
   "id": "31ef159f",
   "metadata": {},
   "outputs": [],
   "source": [
    "# Exporting bar chart\n",
    "bar.figure.savefig(os.path.join(path, '04 Analysis', 'Visualizations', 'bar_profiles.png'))"
   ]
  },
  {
   "cell_type": "code",
   "execution_count": 59,
   "id": "845ed100",
   "metadata": {},
   "outputs": [
    {
     "data": {
      "image/png": "[encoded data removed]",
      "text/plain": [
       "<Figure size 640x480 with 1 Axes>"
      ]
     },
     "metadata": {},
     "output_type": "display_data"
    }
   ],
   "source": [
    "# Plotting when during the week different profiles order, and how much they spend\n",
    "sns.set_palette('rocket')\n",
    "line = sns.lineplot(data=insta_profiles, x='order_day_of_week', y='prices', hue='cust_profile')"
   ]
  },
  {
   "cell_type": "code",
   "execution_count": 60,
   "id": "8d459304",
   "metadata": {},
   "outputs": [],
   "source": [
    "# Exporting day of week chart\n",
    "line.figure.savefig(os.path.join(path, '04 Analysis', 'Visualizations', 'line_profiles_by_day.png'))"
   ]
  },
  {
   "cell_type": "code",
   "execution_count": 57,
   "id": "f1ae55ef",
   "metadata": {},
   "outputs": [
    {
     "data": {
      "image/png": "[encoded data removed]",
      "text/plain": [
       "<Figure size 640x480 with 1 Axes>"
      ]
     },
     "metadata": {},
     "output_type": "display_data"
    }
   ],
   "source": [
    "# Plotting when different profiles order during the day and how much they spend\n",
    "sns.set_palette('rocket')\n",
    "line_2 = sns.lineplot(data=insta_profiles, x='order_hour_of_day', y='prices', hue='cust_profile')"
   ]
  },
  {
   "cell_type": "code",
   "execution_count": 58,
   "id": "d0717e80",
   "metadata": {},
   "outputs": [],
   "source": [
    "# Exporting by hour line chart\n",
    "line_2.figure.savefig(os.path.join(path, '04 Analysis', 'Visualizations', 'line_profiles_by_hour.png'))"
   ]
  },
  {
   "cell_type": "markdown",
   "id": "9375a79e",
   "metadata": {},
   "source": [
    "#### 4.10.7 - Aggregating profile data"
   ]
  },
  {
   "cell_type": "code",
   "execution_count": 37,
   "id": "6edb33b8",
   "metadata": {},
   "outputs": [
    {
     "data": {
      "text/html": [
       "<div>\n",
       "<style scoped>\n",
       "    .dataframe tbody tr th:only-of-type {\n",
       "        vertical-align: middle;\n",
       "    }\n",
       "\n",
       "    .dataframe tbody tr th {\n",
       "        vertical-align: top;\n",
       "    }\n",
       "\n",
       "    .dataframe thead tr th {\n",
       "        text-align: left;\n",
       "    }\n",
       "\n",
       "    .dataframe thead tr:last-of-type th {\n",
       "        text-align: right;\n",
       "    }\n",
       "</style>\n",
       "<table border=\"1\" class=\"dataframe\">\n",
       "  <thead>\n",
       "    <tr>\n",
       "      <th></th>\n",
       "      <th colspan=\"3\" halign=\"left\">frequency</th>\n",
       "    </tr>\n",
       "    <tr>\n",
       "      <th></th>\n",
       "      <th>mean</th>\n",
       "      <th>min</th>\n",
       "      <th>max</th>\n",
       "    </tr>\n",
       "    <tr>\n",
       "      <th>cust_profile</th>\n",
       "      <th></th>\n",
       "      <th></th>\n",
       "      <th></th>\n",
       "    </tr>\n",
       "  </thead>\n",
       "  <tbody>\n",
       "    <tr>\n",
       "      <th>Baby parent</th>\n",
       "      <td>8.736452</td>\n",
       "      <td>0.0</td>\n",
       "      <td>30.0</td>\n",
       "    </tr>\n",
       "    <tr>\n",
       "      <th>College student</th>\n",
       "      <td>11.356009</td>\n",
       "      <td>0.0</td>\n",
       "      <td>30.0</td>\n",
       "    </tr>\n",
       "    <tr>\n",
       "      <th>Pet owner</th>\n",
       "      <td>10.698432</td>\n",
       "      <td>0.0</td>\n",
       "      <td>30.0</td>\n",
       "    </tr>\n",
       "  </tbody>\n",
       "</table>\n",
       "</div>"
      ],
      "text/plain": [
       "                 frequency           \n",
       "                      mean  min   max\n",
       "cust_profile                         \n",
       "Baby parent       8.736452  0.0  30.0\n",
       "College student  11.356009  0.0  30.0\n",
       "Pet owner        10.698432  0.0  30.0"
      ]
     },
     "execution_count": 37,
     "metadata": {},
     "output_type": "execute_result"
    }
   ],
   "source": [
    "# Aggregating profile data for usage frequency\n",
    "insta_profiles.groupby('cust_profile').agg({'frequency': ['mean', 'min', 'max']})"
   ]
  },
  {
   "cell_type": "code",
   "execution_count": 38,
   "id": "68b0d231",
   "metadata": {},
   "outputs": [
    {
     "data": {
      "text/html": [
       "<div>\n",
       "<style scoped>\n",
       "    .dataframe tbody tr th:only-of-type {\n",
       "        vertical-align: middle;\n",
       "    }\n",
       "\n",
       "    .dataframe tbody tr th {\n",
       "        vertical-align: top;\n",
       "    }\n",
       "\n",
       "    .dataframe thead tr th {\n",
       "        text-align: left;\n",
       "    }\n",
       "\n",
       "    .dataframe thead tr:last-of-type th {\n",
       "        text-align: right;\n",
       "    }\n",
       "</style>\n",
       "<table border=\"1\" class=\"dataframe\">\n",
       "  <thead>\n",
       "    <tr>\n",
       "      <th></th>\n",
       "      <th colspan=\"3\" halign=\"left\">prices</th>\n",
       "    </tr>\n",
       "    <tr>\n",
       "      <th></th>\n",
       "      <th>mean</th>\n",
       "      <th>min</th>\n",
       "      <th>max</th>\n",
       "    </tr>\n",
       "    <tr>\n",
       "      <th>cust_profile</th>\n",
       "      <th></th>\n",
       "      <th></th>\n",
       "      <th></th>\n",
       "    </tr>\n",
       "  </thead>\n",
       "  <tbody>\n",
       "    <tr>\n",
       "      <th>Baby parent</th>\n",
       "      <td>7.682007</td>\n",
       "      <td>1.0</td>\n",
       "      <td>15.0</td>\n",
       "    </tr>\n",
       "    <tr>\n",
       "      <th>College student</th>\n",
       "      <td>7.027974</td>\n",
       "      <td>1.0</td>\n",
       "      <td>15.0</td>\n",
       "    </tr>\n",
       "    <tr>\n",
       "      <th>Pet owner</th>\n",
       "      <td>7.885109</td>\n",
       "      <td>1.0</td>\n",
       "      <td>15.0</td>\n",
       "    </tr>\n",
       "  </tbody>\n",
       "</table>\n",
       "</div>"
      ],
      "text/plain": [
       "                   prices           \n",
       "                     mean  min   max\n",
       "cust_profile                        \n",
       "Baby parent      7.682007  1.0  15.0\n",
       "College student  7.027974  1.0  15.0\n",
       "Pet owner        7.885109  1.0  15.0"
      ]
     },
     "execution_count": 38,
     "metadata": {},
     "output_type": "execute_result"
    }
   ],
   "source": [
    "# Aggregating profile data by expenditure\n",
    "insta_profiles.groupby('cust_profile').agg({'prices': ['mean', 'min', 'max']})"
   ]
  },
  {
   "cell_type": "markdown",
   "id": "54d1d19f",
   "metadata": {},
   "source": [
    "#### 4.10.8 - Comparing profile data with regions & departments"
   ]
  },
  {
   "cell_type": "code",
   "execution_count": 39,
   "id": "e8018e2f",
   "metadata": {},
   "outputs": [],
   "source": [
    "# Creating crosstab to compare customer profiles across regions\n",
    "crosstab = pd.crosstab(insta_profiles['cust_profile'], insta_profiles['region'], dropna=False)"
   ]
  },
  {
   "cell_type": "code",
   "execution_count": 40,
   "id": "82eb3cd4",
   "metadata": {},
   "outputs": [],
   "source": [
    "# Copying crosstab to Excel\n",
    "crosstab.to_clipboard()"
   ]
  },
  {
   "cell_type": "code",
   "execution_count": 55,
   "id": "239cc148",
   "metadata": {},
   "outputs": [
    {
     "data": {
      "image/png": "[encoded data removed]",
      "text/plain": [
       "<Figure size 640x480 with 1 Axes>"
      ]
     },
     "metadata": {},
     "output_type": "display_data"
    }
   ],
   "source": [
    "# Showing distribution of profiles across regions\n",
    "sns.set_palette('rocket')\n",
    "bar_2 = sns.barplot(insta_profiles, x=\"region\", y=\"order_number\", hue=\"cust_profile\")\n",
    "sns.move_legend(bar_2, \"lower right\")"
   ]
  },
  {
   "cell_type": "code",
   "execution_count": 56,
   "id": "02182d94",
   "metadata": {},
   "outputs": [],
   "source": [
    "# Exporting profiles across regions\n",
    "bar_2.figure.savefig(os.path.join(path, '04 Analysis', 'Visualizations', 'bar_profiles_by_region.png'))"
   ]
  },
  {
   "cell_type": "code",
   "execution_count": 48,
   "id": "ece6a47c",
   "metadata": {},
   "outputs": [
    {
     "data": {
      "image/png": "[encoded data removed]",
      "text/plain": [
       "<Figure size 640x480 with 1 Axes>"
      ]
     },
     "metadata": {},
     "output_type": "display_data"
    }
   ],
   "source": [
    "# Showing distribution of profiles across department IDs\n",
    "sns.set_palette('rocket')\n",
    "bar_3 = sns.barplot(insta_final, x=\"department_id\", y=\"order_number\", hue=\"cust_profile\")\n",
    "sns.move_legend(bar_3, \"lower right\")"
   ]
  },
  {
   "cell_type": "code",
   "execution_count": 49,
   "id": "fa40d8ca",
   "metadata": {},
   "outputs": [],
   "source": [
    "# Export distribution of profiles across department IDs\n",
    "bar_3.figure.savefig(os.path.join(path, '04 Analysis', 'Visualizations', 'bar_profiles_by_department.png'))"
   ]
  },
  {
   "cell_type": "code",
   "execution_count": 45,
   "id": "05765924",
   "metadata": {},
   "outputs": [],
   "source": [
    "# Exporting profiles dataframe\n",
    "insta_profiles.to_pickle(os.path.join(path, '02 Data','Cleaned','insta_profiles.pkl'))"
   ]
  },
  {
   "cell_type": "code",
   "execution_count": 54,
   "id": "e2cfa709",
   "metadata": {},
   "outputs": [],
   "source": [
    "# Export distribution of profiles across department IDs\n",
    "bar.figure.savefig(os.path.join(path, '04 Analysis', 'Visualizations', 'final_loyalty.png'))"
   ]
  },
  {
   "cell_type": "code",
   "execution_count": null,
   "id": "d63863ec",
   "metadata": {},
   "outputs": [],
   "source": []
  }
 ],
 "metadata": {
  "kernelspec": {
   "display_name": "Python 3 (ipykernel)",
   "language": "python",
   "name": "python3"
  },
  "language_info": {
   "codemirror_mode": {
    "name": "ipython",
    "version": 3
   },
   "file_extension": ".py",
   "mimetype": "text/x-python",
   "name": "python",
   "nbconvert_exporter": "python",
   "pygments_lexer": "ipython3",
   "version": "3.11.4"
  }
 },
 "nbformat": 4,
 "nbformat_minor": 5
}
